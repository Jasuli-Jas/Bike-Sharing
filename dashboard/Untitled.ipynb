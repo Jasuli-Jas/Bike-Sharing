{
 "cells": [
  {
   "cell_type": "code",
   "execution_count": 2,
   "id": "517a7806-80b0-4283-bec1-9345ef649a7c",
   "metadata": {},
   "outputs": [],
   "source": [
    "import numpy as np\n",
    "import pandas as pd\n",
    "import matplotlib.pyplot as plt\n",
    "import seaborn as sns\n",
    "import streamlit as st\n",
    "from babel.numbers import format_currency\n",
    "sns.set(style='dark')"
   ]
  },
  {
   "cell_type": "code",
   "execution_count": 3,
   "id": "f3c4de02-bb98-4879-ab53-3d0d83583be2",
   "metadata": {},
   "outputs": [],
   "source": [
    "def create_rental_df(df):\n",
    "    rental_df = df.resample(rule='D', on='season').agg({\n",
    "        \"instant\": \"nunique\",\n",
    "        \"cnt\": \"sum\"\n",
    " })\n",
    " \n",
    "    rental_df = rental_df.reset_index()\n",
    "    rental_df.rename(columns={\n",
    "        \"instant\": \"kode\",\n",
    "        \"cnt\": \"total\"\n",
    "    }, inplace=True)\n",
    "    \n",
    "    return rental_df"
   ]
  },
  {
   "cell_type": "code",
   "execution_count": 4,
   "id": "598f5667-a420-4de2-9651-90fd8d766eb2",
   "metadata": {},
   "outputs": [],
   "source": [
    "def create_tren_penyewaan_df(df):\n",
    "    tren_penyewaan_df = df.groupby(\"mnth\").quantity_x.sum().sort_values(ascending=False).reset_index()\n",
    "    return sum_order_items_df"
   ]
  },
  {
   "cell_type": "code",
   "execution_count": 6,
   "id": "65fd5ea0-5ac3-46be-9e1f-bffd22d7e75b",
   "metadata": {},
   "outputs": [],
   "source": [
    "def create_byday_df(df):\n",
    "    byday_df = df.groupby(by=\"workingday\").customer_id.nunique().reset_index()\n",
    "    bygender_df.rename(columns={\n",
    "        \"instant\": \"total_rental\"\n",
    "    }, inplace=True)\n",
    "    \n",
    "    return byday_df"
   ]
  },
  {
   "cell_type": "code",
   "execution_count": 7,
   "id": "24c6bdde-0b27-44e4-b15e-ada0ab9c09dc",
   "metadata": {},
   "outputs": [],
   "source": [
    "all_df = pd.read_csv(\"all_data.csv\")"
   ]
  }
 ],
 "metadata": {
  "kernelspec": {
   "display_name": "Python 3 (ipykernel)",
   "language": "python",
   "name": "python3"
  },
  "language_info": {
   "codemirror_mode": {
    "name": "ipython",
    "version": 3
   },
   "file_extension": ".py",
   "mimetype": "text/x-python",
   "name": "python",
   "nbconvert_exporter": "python",
   "pygments_lexer": "ipython3",
   "version": "3.13.0"
  }
 },
 "nbformat": 4,
 "nbformat_minor": 5
}
